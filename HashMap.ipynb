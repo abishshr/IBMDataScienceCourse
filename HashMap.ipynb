{
 "cells": [
  {
   "cell_type": "code",
   "execution_count": 25,
   "id": "7ab13a1f-30e5-4b13-89c2-2ad8eb096006",
   "metadata": {},
   "outputs": [
    {
     "data": {
      "text/plain": [
       "true"
      ]
     },
     "execution_count": 25,
     "metadata": {},
     "output_type": "execute_result"
    }
   ],
   "source": [
    "// HashMap in Java\n",
    "\n",
    "// Implementation \n",
    "HashMap<String, Integer> map = new HashMap<>();\n",
    "\n",
    "// Adding Elements\n",
    "map.put(\"Math Marks\", 95);\n",
    "map.put(\"Science Marks\", 86);\n",
    "map.put(\"English Marks\", 77);\n",
    "\n",
    "// Retreiving Elements\n",
    "map.get(\"Math Marks\");\n",
    "\n",
    "// updating Elements\n",
    "map.put(\"Math Marks\", 88);\n",
    "\n",
    "// Check if a key exists \n",
    "map.containsKey(\"Math Marks\")\n",
    "\n",
    "// Iterating over HashMap\n",
    "for (String key : map.keySet())\n",
    "{\n",
    "    int value = map.get(key);\n",
    "    System.out.println( key + \" -> \" + value);\n",
    "    \n",
    "};\n",
    "\n",
    "// Removing elements from HashMap\n",
    "map.remove(\"English Marks\");\n",
    "\n",
    "// Check the size\n",
    "map.size();\n",
    "\n",
    "// Remove all elements \n",
    "map.clear();"
   ]
  },
  {
   "cell_type": "code",
   "execution_count": 34,
   "id": "56c49f7e-7713-40d9-913b-0b522b12aa1d",
   "metadata": {},
   "outputs": [
    {
     "data": {
      "text/plain": [
       "0"
      ]
     },
     "execution_count": 34,
     "metadata": {},
     "output_type": "execute_result"
    }
   ],
   "source": [
    "// valid sudouku \n",
    "\n"
   ]
  },
  {
   "cell_type": "code",
   "execution_count": 17,
   "id": "3d00a96f-a4f6-4f27-85ca-373679401b65",
   "metadata": {},
   "outputs": [
    {
     "data": {
      "text/plain": [
       "[Math Marks, Science Marks, English Marks]"
      ]
     },
     "execution_count": 17,
     "metadata": {},
     "output_type": "execute_result"
    }
   ],
   "source": []
  },
  {
   "cell_type": "code",
   "execution_count": 24,
   "id": "64dcefc7-d889-4188-afe0-7af7189d7604",
   "metadata": {},
   "outputs": [
    {
     "name": "stdout",
     "output_type": "stream",
     "text": [
      "Math Marks -> 88\n",
      "Science Marks -> 86\n",
      "English Marks -> 77\n"
     ]
    }
   ],
   "source": []
  },
  {
   "cell_type": "code",
   "execution_count": 35,
   "id": "b03775d3-1232-4126-8698-6d44cc4185ce",
   "metadata": {},
   "outputs": [],
   "source": [
    "    public static String getHash(String str)\n",
    "    {\n",
    "        StringBuilder sb = new StringBuilder();\n",
    "        Map<Character, Integer> hm = new TreeMap<>();\n",
    "         for (char ch : str.toCharArray())\n",
    "            {\n",
    "                hm.put(ch, hm.getOrDefault(ch, 0) +1);\n",
    "            }\n",
    "   \n",
    "        for (Character ch :hm.keySet() )\n",
    "        {\n",
    "            sb.append(ch);\n",
    "            sb.append(hm.get(ch));\n",
    "        }\n",
    "        return sb.toString();\n",
    "    }"
   ]
  },
  {
   "cell_type": "code",
   "execution_count": 38,
   "id": "7494b23e-67e3-420a-96c4-ddedaa87177b",
   "metadata": {},
   "outputs": [
    {
     "data": {
      "text/plain": [
       "a2c1"
      ]
     },
     "execution_count": 38,
     "metadata": {},
     "output_type": "execute_result"
    }
   ],
   "source": [
    "getHash(\"aac\")"
   ]
  },
  {
   "cell_type": "code",
   "execution_count": 39,
   "id": "6faac4d4-c413-4347-8691-788ca4cf44c2",
   "metadata": {},
   "outputs": [],
   "source": [
    "StringBuilder sb = new StringBuilder()"
   ]
  },
  {
   "cell_type": "code",
   "execution_count": 55,
   "id": "70b00437-e360-4a2b-a7b4-3edf0a5e13f5",
   "metadata": {},
   "outputs": [
    {
     "ename": "CompilationException",
     "evalue": "",
     "output_type": "error",
     "traceback": [
      "\u001b[1m\u001b[30m|   \u001b[1m\u001b[30mchar p = (\u001b[0m\u001b[1m\u001b[30m\u001b[41mch + 1\u001b[0m\u001b[1m\u001b[30m);\u001b[0m",
      "\u001b[1m\u001b[31mincompatible types: possible lossy conversion from int to char\u001b[0m",
      ""
     ]
    }
   ],
   "source": [
    "char ch = 'k' ;\n",
    "char p = (ch + 1);"
   ]
  },
  {
   "cell_type": "code",
   "execution_count": 54,
   "id": "4292093a-a6d3-467c-bd0b-e4bbf7a743bb",
   "metadata": {},
   "outputs": [
    {
     "data": {
      "text/plain": [
       "l"
      ]
     },
     "execution_count": 54,
     "metadata": {},
     "output_type": "execute_result"
    }
   ],
   "source": [
    "p"
   ]
  },
  {
   "cell_type": "code",
   "execution_count": 49,
   "id": "d0237b69-8168-4fc8-ad1d-1b15bdda0014",
   "metadata": {},
   "outputs": [],
   "source": [
    "char ko = 108"
   ]
  },
  {
   "cell_type": "code",
   "execution_count": 50,
   "id": "30870cfb-cc50-4b90-bd5c-f3fb4f34bbbf",
   "metadata": {},
   "outputs": [
    {
     "data": {
      "text/plain": [
       "l"
      ]
     },
     "execution_count": 50,
     "metadata": {},
     "output_type": "execute_result"
    }
   ],
   "source": [
    "ko"
   ]
  },
  {
   "cell_type": "code",
   "execution_count": 68,
   "id": "023618d0-fcdb-4975-9389-15cf54676cbd",
   "metadata": {},
   "outputs": [],
   "source": [
    "public static String generateHash(String str)\n",
    "    {\n",
    "        Map<Character, Integer> treeMap = new TreeMap<>();\n",
    "        StringBuilder sb = new StringBuilder();\n",
    "        for (char c : str.toCharArray())\n",
    "        {\n",
    "            treeMap.put(c, treeMap.getOrDefault(c, 0) +1);\n",
    "            \n",
    "        }\n",
    "\n",
    "        for (char key : treeMap.keySet())\n",
    "            {\n",
    "                sb.append(key);\n",
    "                sb.append(treeMap.get(key));\n",
    "            }\n",
    "        return sb.toString();\n",
    "\n",
    "    }"
   ]
  },
  {
   "cell_type": "code",
   "execution_count": 72,
   "id": "6114af90-acc4-4173-9f0c-10831be1a7d9",
   "metadata": {},
   "outputs": [
    {
     "data": {
      "text/plain": [
       "a2b1"
      ]
     },
     "execution_count": 72,
     "metadata": {},
     "output_type": "execute_result"
    }
   ],
   "source": [
    "generateHash(\"aab\")"
   ]
  },
  {
   "cell_type": "code",
   "execution_count": 71,
   "id": "b5da179d-a0de-4d8f-a507-487fd3d1fcd0",
   "metadata": {},
   "outputs": [
    {
     "data": {
      "text/plain": [
       "a2b1"
      ]
     },
     "execution_count": 71,
     "metadata": {},
     "output_type": "execute_result"
    }
   ],
   "source": [
    "getHash(\"aba\")"
   ]
  },
  {
   "cell_type": "code",
   "execution_count": null,
   "id": "4712e012-b9af-4fa1-b4c0-ea5cf6620202",
   "metadata": {},
   "outputs": [],
   "source": []
  }
 ],
 "metadata": {
  "kernelspec": {
   "display_name": "Java",
   "language": "java",
   "name": "java"
  },
  "language_info": {
   "codemirror_mode": "java",
   "file_extension": ".jshell",
   "mimetype": "text/x-java-source",
   "name": "Java",
   "pygments_lexer": "java",
   "version": "21.0.1"
  }
 },
 "nbformat": 4,
 "nbformat_minor": 5
}
